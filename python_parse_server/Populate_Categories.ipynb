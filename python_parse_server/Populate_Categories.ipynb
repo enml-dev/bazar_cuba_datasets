{
 "cells": [
  {
   "cell_type": "code",
   "execution_count": 1,
   "metadata": {},
   "outputs": [
    {
     "data": {
      "text/plain": [
       "'Iphone'"
      ]
     },
     "execution_count": 1,
     "metadata": {},
     "output_type": "execute_result"
    }
   ],
   "source": [
    "import json\n",
    "with open('bazar.json', 'r') as myfile:\n",
    "    data=myfile.read()\n",
    "data\n",
    "\n",
    "# parse file\n",
    "obj = json.loads(data)\n",
    "\n",
    "obj2 = obj['Categorias']\n",
    "obj2[0]['sub-categories'][0]['types'][0]"
   ]
  },
  {
   "cell_type": "code",
   "execution_count": 2,
   "metadata": {},
   "outputs": [],
   "source": [
    "import os\n",
    "os.environ[\"PARSE_API_ROOT\"] = \"http://165.227.78.46:1337/parse\"\n",
    "\n",
    "# Everything else same as usual\n",
    "\n",
    "from parse_rest.datatypes import Function, Object, GeoPoint\n",
    "from parse_rest.connection import register\n",
    "from parse_rest.query import QueryResourceDoesNotExist\n",
    "from parse_rest.connection import ParseBatcher\n",
    "from parse_rest.core import ResourceRequestBadRequest, ParseError\n",
    "\n",
    "APPLICATION_ID = 'Goblob'\n",
    "REST_API_KEY = '...'\n",
    "MASTER_KEY = 'cassandra'\n",
    "\n",
    "register(APPLICATION_ID, REST_API_KEY, master_key=MASTER_KEY)\n"
   ]
  },
  {
   "cell_type": "code",
   "execution_count": 3,
   "metadata": {},
   "outputs": [
    {
     "name": "stdout",
     "output_type": "stream",
     "text": [
      "0\n",
      "1\n",
      "2\n",
      "3\n",
      "4\n",
      "5\n",
      "6\n",
      "7\n",
      "8\n",
      "9\n",
      "10\n",
      "11\n"
     ]
    }
   ],
   "source": [
    "# En esta variante se usan Arrays, esta forma es mas simple porque podemos obtener los minicipios de las provincias con in include.\n",
    "for i in range(0, len(obj2)):\n",
    "    print(i)\n",
    "    myClassC = \"Category\"\n",
    "    category = Object.factory(myClassC)\n",
    "    #p1.save()\n",
    "    #relation = p1.relation('municipalities')\n",
    "    lista = []\n",
    "    for j in range(0, len(obj2[i]['sub-categories'])):\n",
    "        myClassS = \"SubCategory\"\n",
    "        sub = Object.factory(myClassS)\n",
    "        lista_types = []\n",
    "        for k in range(0, len(obj2[i]['sub-categories'][j]['types'])):\n",
    "            myClassT = \"ItemType\"\n",
    "            tp = Object.factory(myClassT)\n",
    "            tp1 = tp(name=obj2[i]['sub-categories'][j]['types'][k])\n",
    "            tp1.save()\n",
    "            lista_types.append(tp1)\n",
    "        m1 = sub(name=obj2[i]['sub-categories'][j]['name'], itemTypes=lista_types)\n",
    "        m1.save()\n",
    "        lista.append(m1)\n",
    "    p1 = category(name=obj2[i]['name'], subcategories=lista)\n",
    "    p1.save()"
   ]
  }
 ],
 "metadata": {
  "kernelspec": {
   "display_name": "Python 3",
   "language": "python",
   "name": "python3"
  },
  "language_info": {
   "codemirror_mode": {
    "name": "ipython",
    "version": 3
   },
   "file_extension": ".py",
   "mimetype": "text/x-python",
   "name": "python",
   "nbconvert_exporter": "python",
   "pygments_lexer": "ipython3",
   "version": "3.6.4"
  }
 },
 "nbformat": 4,
 "nbformat_minor": 2
}
