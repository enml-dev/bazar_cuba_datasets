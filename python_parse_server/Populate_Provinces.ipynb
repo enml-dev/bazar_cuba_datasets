{
 "cells": [
  {
   "cell_type": "code",
   "execution_count": 1,
   "metadata": {},
   "outputs": [
    {
     "data": {
      "text/plain": [
       "['Consolación del Sur',\n",
       " 'Guane',\n",
       " 'La Palma',\n",
       " 'Los Palacios',\n",
       " 'Mantua',\n",
       " 'Minas de Matahambre',\n",
       " 'Pinar del Río',\n",
       " 'San Juan y Martínez',\n",
       " 'San Luis',\n",
       " 'Sandino',\n",
       " 'Viñales']"
      ]
     },
     "execution_count": 1,
     "metadata": {},
     "output_type": "execute_result"
    }
   ],
   "source": [
    "import json\n",
    "with open('provincias_municipios_cuba.json', 'r') as myfile:\n",
    "    data=myfile.read()\n",
    "data\n",
    "\n",
    "# parse file\n",
    "obj = json.loads(data)\n",
    "\n",
    "obj2 = obj['Provincias']\n",
    "# show values\n",
    "obj2[0][\"municipios\"]"
   ]
  },
  {
   "cell_type": "code",
   "execution_count": 2,
   "metadata": {},
   "outputs": [],
   "source": [
    "import os\n",
    "os.environ[\"PARSE_API_ROOT\"] = \"http://165.227.78.46:1337/parse\"\n",
    "\n",
    "# Everything else same as usual\n",
    "\n",
    "from parse_rest.datatypes import Function, Object, GeoPoint\n",
    "from parse_rest.connection import register\n",
    "from parse_rest.query import QueryResourceDoesNotExist\n",
    "from parse_rest.connection import ParseBatcher\n",
    "from parse_rest.core import ResourceRequestBadRequest, ParseError\n",
    "\n",
    "APPLICATION_ID = 'Goblob'\n",
    "REST_API_KEY = '...'\n",
    "MASTER_KEY = 'cassandra'\n",
    "\n",
    "register(APPLICATION_ID, REST_API_KEY, master_key=MASTER_KEY)\n"
   ]
  },
  {
   "cell_type": "code",
   "execution_count": 23,
   "metadata": {
    "collapsed": true
   },
   "outputs": [
    {
     "name": "stdout",
     "output_type": "stream",
     "text": [
      "0\n",
      "1\n",
      "2\n",
      "3\n",
      "4\n",
      "5\n",
      "6\n",
      "7\n",
      "8\n",
      "9\n",
      "10\n",
      "11\n",
      "12\n",
      "13\n",
      "14\n",
      "15\n"
     ]
    }
   ],
   "source": [
    "# En esta variante los municipios se agregan como relation. La desventaja es que para tenerlos tenemos que hacer una consulta\n",
    "for i in range(0, len(obj2)):\n",
    "    print(i)\n",
    "    myClassP = \"Province\"\n",
    "    province = Object.factory(myClassP)\n",
    "    p1 = province(name=obj2[i]['nombre'])\n",
    "    p1.save()\n",
    "    relation = p1.relation('municipalities')\n",
    "    for j in range(0, len(obj2[i]['municipios'])):\n",
    "        myClassM = \"Municipality\"\n",
    "        municipio = Object.factory(myClassM)\n",
    "        m1 = municipio(name=obj2[i]['municipios'][j])\n",
    "        m1.save()\n",
    "        relation.add(m1)\n",
    "    p1.save()"
   ]
  },
  {
   "cell_type": "code",
   "execution_count": 3,
   "metadata": {},
   "outputs": [
    {
     "name": "stdout",
     "output_type": "stream",
     "text": [
      "0\n",
      "1\n",
      "2\n",
      "3\n",
      "4\n",
      "5\n",
      "6\n",
      "7\n",
      "8\n",
      "9\n",
      "10\n",
      "11\n",
      "12\n",
      "13\n",
      "14\n",
      "15\n"
     ]
    }
   ],
   "source": [
    "# En esta variante se usan Arrays, esta forma es mas simple porque podemos obtener los minicipios de las provincias con in include.\n",
    "for i in range(0, len(obj2)):\n",
    "    print(i)\n",
    "    myClassP = \"Province\"\n",
    "    province = Object.factory(myClassP)\n",
    "    \n",
    "    #p1.save()\n",
    "    #relation = p1.relation('municipalities')\n",
    "    lista = []\n",
    "    for j in range(0, len(obj2[i]['municipios'])):\n",
    "        myClassM = \"Municipality\"\n",
    "        municipio = Object.factory(myClassM)\n",
    "        m1 = municipio(name=obj2[i]['municipios'][j])\n",
    "        m1.save()\n",
    "        lista.append(m1)\n",
    "    p1 = province(name=obj2[i]['nombre'], municipalities=lista)\n",
    "    p1.save()"
   ]
  }
 ],
 "metadata": {
  "kernelspec": {
   "display_name": "Python 3",
   "language": "python",
   "name": "python3"
  },
  "language_info": {
   "codemirror_mode": {
    "name": "ipython",
    "version": 3
   },
   "file_extension": ".py",
   "mimetype": "text/x-python",
   "name": "python",
   "nbconvert_exporter": "python",
   "pygments_lexer": "ipython3",
   "version": "3.6.4"
  }
 },
 "nbformat": 4,
 "nbformat_minor": 2
}
