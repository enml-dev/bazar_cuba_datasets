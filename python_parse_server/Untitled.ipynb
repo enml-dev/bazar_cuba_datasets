{
 "cells": [
  {
   "cell_type": "code",
   "execution_count": 1,
   "metadata": {},
   "outputs": [],
   "source": [
    "import os\n",
    "os.environ[\"PARSE_API_ROOT\"] = \"http://localhost:1337/parse\"\n",
    "\n",
    "# Everything else same as usual\n",
    "\n",
    "from parse_rest.datatypes import Function, Object, GeoPoint\n",
    "from parse_rest.connection import register\n",
    "from parse_rest.query import QueryResourceDoesNotExist\n",
    "from parse_rest.connection import ParseBatcher\n",
    "from parse_rest.core import ResourceRequestBadRequest, ParseError\n",
    "\n",
    "APPLICATION_ID = 'Goblob'\n",
    "REST_API_KEY = '...'\n",
    "MASTER_KEY = 'cassandra'\n",
    "\n",
    "register(APPLICATION_ID, REST_API_KEY, master_key=MASTER_KEY)\n"
   ]
  },
  {
   "cell_type": "code",
   "execution_count": 8,
   "metadata": {},
   "outputs": [],
   "source": [
    "myClassName = \"Country\"\n",
    "country = Object.factory(myClassName)"
   ]
  },
  {
   "cell_type": "code",
   "execution_count": 9,
   "metadata": {},
   "outputs": [],
   "source": [
    "country1 = country(name='Cuba')\n",
    "country1.save()"
   ]
  },
  {
   "cell_type": "code",
   "execution_count": 10,
   "metadata": {},
   "outputs": [],
   "source": [
    "myClassName = \"Province\"\n",
    "province = Object.factory(myClassName)"
   ]
  },
  {
   "cell_type": "code",
   "execution_count": 29,
   "metadata": {},
   "outputs": [],
   "source": [
    "p1 = province(name='Isla de la Juventud', country=country1)\n",
    "p1.save()"
   ]
  },
  {
   "cell_type": "code",
   "execution_count": 85,
   "metadata": {},
   "outputs": [],
   "source": [
    "myClassName = \"Item\"\n",
    "item = Object.factory(myClassName)"
   ]
  },
  {
   "cell_type": "code",
   "execution_count": 86,
   "metadata": {},
   "outputs": [],
   "source": [
    "item1 = item(name=\"Laptop Lenovo como nueva\", description=\"Vendo Laptop lenovo en perfecto estado\", price=200, province=p1)\n",
    "item1.save()"
   ]
  },
  {
   "cell_type": "code",
   "execution_count": 30,
   "metadata": {},
   "outputs": [],
   "source": [
    "import pandas as pd"
   ]
  },
  {
   "cell_type": "code",
   "execution_count": 1,
   "metadata": {},
   "outputs": [
    {
     "data": {
      "text/plain": [
       "['Consolación del Sur',\n",
       " 'Guane',\n",
       " 'La Palma',\n",
       " 'Los Palacios',\n",
       " 'Mantua',\n",
       " 'Minas de Matahambre',\n",
       " 'Pinar del Río',\n",
       " 'San Juan y Martínez',\n",
       " 'San Luis',\n",
       " 'Sandino',\n",
       " 'Viñales']"
      ]
     },
     "execution_count": 1,
     "metadata": {},
     "output_type": "execute_result"
    }
   ],
   "source": [
    "import json\n",
    "with open('provincias_municipios_cuba.json', 'r') as myfile:\n",
    "    data=myfile.read()\n",
    "data\n",
    "\n",
    "# parse file\n",
    "obj = json.loads(data)\n",
    "\n",
    "obj2 = obj['Provincias']\n",
    "# show values\n",
    "obj2[0][\"municipios\"]"
   ]
  },
  {
   "cell_type": "code",
   "execution_count": 27,
   "metadata": {},
   "outputs": [
    {
     "ename": "KeyError",
     "evalue": "'municipios'",
     "output_type": "error",
     "traceback": [
      "\u001b[0;31m---------------------------------------------------------------------------\u001b[0m",
      "\u001b[0;31mKeyError\u001b[0m                                  Traceback (most recent call last)",
      "\u001b[0;32m<ipython-input-27-407a801ffccf>\u001b[0m in \u001b[0;36m<module>\u001b[0;34m()\u001b[0m\n\u001b[0;32m----> 1\u001b[0;31m \u001b[0mlen\u001b[0m\u001b[0;34m(\u001b[0m\u001b[0mobj2\u001b[0m\u001b[0;34m[\u001b[0m\u001b[0;36m8\u001b[0m\u001b[0;34m]\u001b[0m\u001b[0;34m[\u001b[0m\u001b[0;34m'municipios'\u001b[0m\u001b[0;34m]\u001b[0m\u001b[0;34m)\u001b[0m\u001b[0;34m\u001b[0m\u001b[0m\n\u001b[0m",
      "\u001b[0;31mKeyError\u001b[0m: 'municipios'"
     ]
    }
   ],
   "source": [
    "len(obj2[8]['municipios'])"
   ]
  },
  {
   "cell_type": "code",
   "execution_count": 43,
   "metadata": {},
   "outputs": [
    {
     "data": {
      "text/plain": [
       "6"
      ]
     },
     "execution_count": 43,
     "metadata": {},
     "output_type": "execute_result"
    }
   ],
   "source": [
    "import json\n",
    "with open('revolico.json', 'r') as myfile:\n",
    "    data=myfile.read()\n",
    "data\n",
    "\n",
    "# parse file\n",
    "obj = json.loads(data)\n",
    "\n",
    "obj2 = obj['Categorias']\n",
    "len(obj2)"
   ]
  }
 ],
 "metadata": {
  "kernelspec": {
   "display_name": "Python 3",
   "language": "python",
   "name": "python3"
  },
  "language_info": {
   "codemirror_mode": {
    "name": "ipython",
    "version": 3
   },
   "file_extension": ".py",
   "mimetype": "text/x-python",
   "name": "python",
   "nbconvert_exporter": "python",
   "pygments_lexer": "ipython3",
   "version": "3.6.4"
  }
 },
 "nbformat": 4,
 "nbformat_minor": 2
}
